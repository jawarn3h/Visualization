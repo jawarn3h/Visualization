{
 "cells": [
  {
   "cell_type": "code",
   "execution_count": 3,
   "metadata": {},
   "outputs": [],
   "source": [
    "import tensorflow as tf\n",
    "import matplotlib.pyplot as plt\n",
    "import numpy as np\n",
    "import os"
   ]
  },
  {
   "cell_type": "code",
   "execution_count": 4,
   "metadata": {},
   "outputs": [],
   "source": [
    "train_dataset_url = \"https://storage.googleapis.com/download.tensorflow.org/data/iris_training.csv\"\n",
    "\n",
    "train_dataset_fp = tf.keras.utils.get_file(fname=os.path.basename(train_dataset_url),\n",
    "                                           origin=train_dataset_url)"
   ]
  },
  {
   "cell_type": "code",
   "execution_count": 5,
   "metadata": {},
   "outputs": [],
   "source": [
    "# column order in CSV file\n",
    "column_names = ['sepal_length', 'sepal_width', 'petal_length', 'petal_width', 'species']\n",
    "\n",
    "feature_names = column_names[:-1]\n",
    "label_name = column_names[-1]"
   ]
  },
  {
   "cell_type": "code",
   "execution_count": 6,
   "metadata": {},
   "outputs": [],
   "source": [
    "class_names = ['Iris setosa', 'Iris versicolor', 'Iris virginica']"
   ]
  },
  {
   "cell_type": "code",
   "execution_count": 7,
   "metadata": {},
   "outputs": [],
   "source": [
    "batch_size = 32\n",
    "\n",
    "train_dataset = tf.data.experimental.make_csv_dataset(\n",
    "    train_dataset_fp,\n",
    "    batch_size,\n",
    "    column_names=column_names,\n",
    "    label_name=label_name,\n",
    "    num_epochs=1)"
   ]
  },
  {
   "cell_type": "code",
   "execution_count": 20,
   "metadata": {},
   "outputs": [],
   "source": [
    "features, labels = list(train_dataset)[0]"
   ]
  },
  {
   "cell_type": "code",
   "execution_count": null,
   "metadata": {},
   "outputs": [],
   "source": []
  },
  {
   "cell_type": "code",
   "execution_count": 21,
   "metadata": {},
   "outputs": [
    {
     "data": {
      "image/png": "[encoded data removed]",
      "text/plain": [
       "<Figure size 432x288 with 1 Axes>"
      ]
     },
     "metadata": {
      "needs_background": "light"
     },
     "output_type": "display_data"
    }
   ],
   "source": [
    "plt.scatter(features['petal_length'], \n",
    "            features['sepal_length'], \n",
    "            c=labels, cmap='viridis')\n",
    "plt.xlabel(\"Petal Length\")\n",
    "plt.ylabel(\"Sepal Length\")\n",
    "plt.title(\"Iris Features\")\n",
    "plt.show()"
   ]
  },
  {
   "cell_type": "code",
   "execution_count": 22,
   "metadata": {},
   "outputs": [],
   "source": [
    "def pack_features_vector(features, labels):\n",
    "  \"\"\"Pack the features into a single array.\"\"\"\n",
    "  features = tf.stack(list(features.values()), axis=1)\n",
    "  return features, labels"
   ]
  },
  {
   "cell_type": "code",
   "execution_count": 23,
   "metadata": {},
   "outputs": [],
   "source": [
    "train_dataset = train_dataset.map(pack_features_vector)"
   ]
  },
  {
   "cell_type": "code",
   "execution_count": 24,
   "metadata": {},
   "outputs": [],
   "source": [
    "model = tf.keras.Sequential([\n",
    "  tf.keras.layers.Dense(10, activation=tf.nn.relu, input_shape=(4,)),  # input shape required\n",
    "  tf.keras.layers.Dense(10, activation=tf.nn.relu),\n",
    "  tf.keras.layers.Dense(3)\n",
    "])"
   ]
  },
  {
   "cell_type": "code",
   "execution_count": 25,
   "metadata": {},
   "outputs": [],
   "source": [
    "loss_object = tf.keras.losses.SparseCategoricalCrossentropy(from_logits=True)"
   ]
  },
  {
   "cell_type": "code",
   "execution_count": 26,
   "metadata": {},
   "outputs": [],
   "source": [
    "def loss(model, x, y, training):\n",
    "  # training=training is needed only if there are layers with different\n",
    "  # behavior during training versus inference (e.g. Dropout).\n",
    "  y_ = model(x, training=training)\n",
    "\n",
    "  return loss_object(y_true=y, y_pred=y_)"
   ]
  },
  {
   "cell_type": "code",
   "execution_count": 27,
   "metadata": {},
   "outputs": [],
   "source": [
    "def grad(model, inputs, targets):\n",
    "  with tf.GradientTape() as tape:\n",
    "    loss_value = loss(model, inputs, targets, training=True)\n",
    "  return loss_value, tape.gradient(loss_value, model.trainable_variables)"
   ]
  },
  {
   "cell_type": "code",
   "execution_count": 28,
   "metadata": {},
   "outputs": [],
   "source": [
    "optimizer = tf.keras.optimizers.SGD(learning_rate=0.01)"
   ]
  },
  {
   "cell_type": "code",
   "execution_count": 29,
   "metadata": {},
   "outputs": [
    {
     "name": "stdout",
     "output_type": "stream",
     "text": [
      "Epoch 000: Loss: 1.091, Accuracy: 37.500%\n",
      "Epoch 050: Loss: 0.458, Accuracy: 70.000%\n",
      "Epoch 100: Loss: 0.358, Accuracy: 91.667%\n",
      "Epoch 150: Loss: 0.280, Accuracy: 92.500%\n",
      "Epoch 200: Loss: 0.217, Accuracy: 95.000%\n"
     ]
    }
   ],
   "source": [
    "# Keep results for plotting\n",
    "train_loss_results = []\n",
    "train_accuracy_results = []\n",
    "\n",
    "num_epochs = 201\n",
    "\n",
    "for epoch in range(num_epochs):\n",
    "  epoch_loss_avg = tf.keras.metrics.Mean()\n",
    "  epoch_accuracy = tf.keras.metrics.SparseCategoricalAccuracy()\n",
    "\n",
    "  # Training loop - using batches of 32\n",
    "  for x, y in train_dataset:\n",
    "    # Optimize the model\n",
    "    loss_value, grads = grad(model, x, y)\n",
    "    optimizer.apply_gradients(zip(grads, model.trainable_variables))\n",
    "    # Track progress\n",
    "    epoch_loss_avg(loss_value)\n",
    "    epoch_accuracy(y, model(x, training=True))\n",
    "\n",
    "  # End epoch\n",
    "  train_loss_results.append(epoch_loss_avg.result())\n",
    "  train_accuracy_results.append(epoch_accuracy.result())"
   ]
  },
  {
   "cell_type": "code",
   "execution_count": 34,
   "metadata": {},
   "outputs": [
    {
     "data": {
      "text/plain": [
       "[<tf.Tensor: shape=(), dtype=float32, numpy=0.375>,\n",
       " <tf.Tensor: shape=(), dtype=float32, numpy=0.49166667>,\n",
       " <tf.Tensor: shape=(), dtype=float32, numpy=0.675>,\n",
       " <tf.Tensor: shape=(), dtype=float32, numpy=0.7>,\n",
       " <tf.Tensor: shape=(), dtype=float32, numpy=0.7>,\n",
       " <tf.Tensor: shape=(), dtype=float32, numpy=0.7>,\n",
       " <tf.Tensor: shape=(), dtype=float32, numpy=0.7>,\n",
       " <tf.Tensor: shape=(), dtype=float32, numpy=0.7>,\n",
       " <tf.Tensor: shape=(), dtype=float32, numpy=0.7>,\n",
       " <tf.Tensor: shape=(), dtype=float32, numpy=0.7>,\n",
       " <tf.Tensor: shape=(), dtype=float32, numpy=0.7>,\n",
       " <tf.Tensor: shape=(), dtype=float32, numpy=0.7>,\n",
       " <tf.Tensor: shape=(), dtype=float32, numpy=0.7>,\n",
       " <tf.Tensor: shape=(), dtype=float32, numpy=0.7>,\n",
       " <tf.Tensor: shape=(), dtype=float32, numpy=0.7>,\n",
       " <tf.Tensor: shape=(), dtype=float32, numpy=0.7>,\n",
       " <tf.Tensor: shape=(), dtype=float32, numpy=0.7>,\n",
       " <tf.Tensor: shape=(), dtype=float32, numpy=0.7>,\n",
       " <tf.Tensor: shape=(), dtype=float32, numpy=0.7>,\n",
       " <tf.Tensor: shape=(), dtype=float32, numpy=0.7>,\n",
       " <tf.Tensor: shape=(), dtype=float32, numpy=0.7>,\n",
       " <tf.Tensor: shape=(), dtype=float32, numpy=0.7>,\n",
       " <tf.Tensor: shape=(), dtype=float32, numpy=0.7>,\n",
       " <tf.Tensor: shape=(), dtype=float32, numpy=0.7>,\n",
       " <tf.Tensor: shape=(), dtype=float32, numpy=0.7>,\n",
       " <tf.Tensor: shape=(), dtype=float32, numpy=0.7>,\n",
       " <tf.Tensor: shape=(), dtype=float32, numpy=0.7>,\n",
       " <tf.Tensor: shape=(), dtype=float32, numpy=0.7>,\n",
       " <tf.Tensor: shape=(), dtype=float32, numpy=0.7>,\n",
       " <tf.Tensor: shape=(), dtype=float32, numpy=0.7>,\n",
       " <tf.Tensor: shape=(), dtype=float32, numpy=0.7>,\n",
       " <tf.Tensor: shape=(), dtype=float32, numpy=0.7>,\n",
       " <tf.Tensor: shape=(), dtype=float32, numpy=0.7>,\n",
       " <tf.Tensor: shape=(), dtype=float32, numpy=0.7>,\n",
       " <tf.Tensor: shape=(), dtype=float32, numpy=0.7>,\n",
       " <tf.Tensor: shape=(), dtype=float32, numpy=0.7>,\n",
       " <tf.Tensor: shape=(), dtype=float32, numpy=0.7>,\n",
       " <tf.Tensor: shape=(), dtype=float32, numpy=0.7>,\n",
       " <tf.Tensor: shape=(), dtype=float32, numpy=0.7>,\n",
       " <tf.Tensor: shape=(), dtype=float32, numpy=0.7>,\n",
       " <tf.Tensor: shape=(), dtype=float32, numpy=0.7>,\n",
       " <tf.Tensor: shape=(), dtype=float32, numpy=0.7>,\n",
       " <tf.Tensor: shape=(), dtype=float32, numpy=0.7>,\n",
       " <tf.Tensor: shape=(), dtype=float32, numpy=0.7>,\n",
       " <tf.Tensor: shape=(), dtype=float32, numpy=0.7>,\n",
       " <tf.Tensor: shape=(), dtype=float32, numpy=0.7>,\n",
       " <tf.Tensor: shape=(), dtype=float32, numpy=0.7>,\n",
       " <tf.Tensor: shape=(), dtype=float32, numpy=0.7>,\n",
       " <tf.Tensor: shape=(), dtype=float32, numpy=0.7>,\n",
       " <tf.Tensor: shape=(), dtype=float32, numpy=0.71666664>,\n",
       " <tf.Tensor: shape=(), dtype=float32, numpy=0.7>,\n",
       " <tf.Tensor: shape=(), dtype=float32, numpy=0.7083333>,\n",
       " <tf.Tensor: shape=(), dtype=float32, numpy=0.71666664>,\n",
       " <tf.Tensor: shape=(), dtype=float32, numpy=0.71666664>,\n",
       " <tf.Tensor: shape=(), dtype=float32, numpy=0.71666664>,\n",
       " <tf.Tensor: shape=(), dtype=float32, numpy=0.73333335>,\n",
       " <tf.Tensor: shape=(), dtype=float32, numpy=0.73333335>,\n",
       " <tf.Tensor: shape=(), dtype=float32, numpy=0.7583333>,\n",
       " <tf.Tensor: shape=(), dtype=float32, numpy=0.7583333>,\n",
       " <tf.Tensor: shape=(), dtype=float32, numpy=0.775>,\n",
       " <tf.Tensor: shape=(), dtype=float32, numpy=0.78333336>,\n",
       " <tf.Tensor: shape=(), dtype=float32, numpy=0.7583333>,\n",
       " <tf.Tensor: shape=(), dtype=float32, numpy=0.80833334>,\n",
       " <tf.Tensor: shape=(), dtype=float32, numpy=0.78333336>,\n",
       " <tf.Tensor: shape=(), dtype=float32, numpy=0.825>,\n",
       " <tf.Tensor: shape=(), dtype=float32, numpy=0.8333333>,\n",
       " <tf.Tensor: shape=(), dtype=float32, numpy=0.78333336>,\n",
       " <tf.Tensor: shape=(), dtype=float32, numpy=0.81666666>,\n",
       " <tf.Tensor: shape=(), dtype=float32, numpy=0.81666666>,\n",
       " <tf.Tensor: shape=(), dtype=float32, numpy=0.8333333>,\n",
       " <tf.Tensor: shape=(), dtype=float32, numpy=0.85>,\n",
       " <tf.Tensor: shape=(), dtype=float32, numpy=0.85>,\n",
       " <tf.Tensor: shape=(), dtype=float32, numpy=0.85>,\n",
       " <tf.Tensor: shape=(), dtype=float32, numpy=0.85833335>,\n",
       " <tf.Tensor: shape=(), dtype=float32, numpy=0.85>,\n",
       " <tf.Tensor: shape=(), dtype=float32, numpy=0.84166664>,\n",
       " <tf.Tensor: shape=(), dtype=float32, numpy=0.85833335>,\n",
       " <tf.Tensor: shape=(), dtype=float32, numpy=0.85>,\n",
       " <tf.Tensor: shape=(), dtype=float32, numpy=0.85>,\n",
       " <tf.Tensor: shape=(), dtype=float32, numpy=0.85>,\n",
       " <tf.Tensor: shape=(), dtype=float32, numpy=0.85>,\n",
       " <tf.Tensor: shape=(), dtype=float32, numpy=0.8666667>,\n",
       " <tf.Tensor: shape=(), dtype=float32, numpy=0.84166664>,\n",
       " <tf.Tensor: shape=(), dtype=float32, numpy=0.90833336>,\n",
       " <tf.Tensor: shape=(), dtype=float32, numpy=0.85833335>,\n",
       " <tf.Tensor: shape=(), dtype=float32, numpy=0.85>,\n",
       " <tf.Tensor: shape=(), dtype=float32, numpy=0.8666667>,\n",
       " <tf.Tensor: shape=(), dtype=float32, numpy=0.9>,\n",
       " <tf.Tensor: shape=(), dtype=float32, numpy=0.875>,\n",
       " <tf.Tensor: shape=(), dtype=float32, numpy=0.875>,\n",
       " <tf.Tensor: shape=(), dtype=float32, numpy=0.90833336>,\n",
       " <tf.Tensor: shape=(), dtype=float32, numpy=0.90833336>,\n",
       " <tf.Tensor: shape=(), dtype=float32, numpy=0.875>,\n",
       " <tf.Tensor: shape=(), dtype=float32, numpy=0.90833336>,\n",
       " <tf.Tensor: shape=(), dtype=float32, numpy=0.89166665>,\n",
       " <tf.Tensor: shape=(), dtype=float32, numpy=0.90833336>,\n",
       " <tf.Tensor: shape=(), dtype=float32, numpy=0.8833333>,\n",
       " <tf.Tensor: shape=(), dtype=float32, numpy=0.875>,\n",
       " <tf.Tensor: shape=(), dtype=float32, numpy=0.9>,\n",
       " <tf.Tensor: shape=(), dtype=float32, numpy=0.89166665>,\n",
       " <tf.Tensor: shape=(), dtype=float32, numpy=0.9166667>,\n",
       " <tf.Tensor: shape=(), dtype=float32, numpy=0.89166665>,\n",
       " <tf.Tensor: shape=(), dtype=float32, numpy=0.89166665>,\n",
       " <tf.Tensor: shape=(), dtype=float32, numpy=0.90833336>,\n",
       " <tf.Tensor: shape=(), dtype=float32, numpy=0.875>,\n",
       " <tf.Tensor: shape=(), dtype=float32, numpy=0.925>,\n",
       " <tf.Tensor: shape=(), dtype=float32, numpy=0.9166667>,\n",
       " <tf.Tensor: shape=(), dtype=float32, numpy=0.89166665>,\n",
       " <tf.Tensor: shape=(), dtype=float32, numpy=0.90833336>,\n",
       " <tf.Tensor: shape=(), dtype=float32, numpy=0.90833336>,\n",
       " <tf.Tensor: shape=(), dtype=float32, numpy=0.9166667>,\n",
       " <tf.Tensor: shape=(), dtype=float32, numpy=0.9>,\n",
       " <tf.Tensor: shape=(), dtype=float32, numpy=0.9166667>,\n",
       " <tf.Tensor: shape=(), dtype=float32, numpy=0.89166665>,\n",
       " <tf.Tensor: shape=(), dtype=float32, numpy=0.90833336>,\n",
       " <tf.Tensor: shape=(), dtype=float32, numpy=0.90833336>,\n",
       " <tf.Tensor: shape=(), dtype=float32, numpy=0.9166667>,\n",
       " <tf.Tensor: shape=(), dtype=float32, numpy=0.90833336>,\n",
       " <tf.Tensor: shape=(), dtype=float32, numpy=0.9166667>,\n",
       " <tf.Tensor: shape=(), dtype=float32, numpy=0.93333334>,\n",
       " <tf.Tensor: shape=(), dtype=float32, numpy=0.93333334>,\n",
       " <tf.Tensor: shape=(), dtype=float32, numpy=0.925>,\n",
       " <tf.Tensor: shape=(), dtype=float32, numpy=0.9166667>,\n",
       " <tf.Tensor: shape=(), dtype=float32, numpy=0.9>,\n",
       " <tf.Tensor: shape=(), dtype=float32, numpy=0.9166667>,\n",
       " <tf.Tensor: shape=(), dtype=float32, numpy=0.925>,\n",
       " <tf.Tensor: shape=(), dtype=float32, numpy=0.9166667>,\n",
       " <tf.Tensor: shape=(), dtype=float32, numpy=0.90833336>,\n",
       " <tf.Tensor: shape=(), dtype=float32, numpy=0.90833336>,\n",
       " <tf.Tensor: shape=(), dtype=float32, numpy=0.90833336>,\n",
       " <tf.Tensor: shape=(), dtype=float32, numpy=0.93333334>,\n",
       " <tf.Tensor: shape=(), dtype=float32, numpy=0.90833336>,\n",
       " <tf.Tensor: shape=(), dtype=float32, numpy=0.93333334>,\n",
       " <tf.Tensor: shape=(), dtype=float32, numpy=0.94166666>,\n",
       " <tf.Tensor: shape=(), dtype=float32, numpy=0.90833336>,\n",
       " <tf.Tensor: shape=(), dtype=float32, numpy=0.925>,\n",
       " <tf.Tensor: shape=(), dtype=float32, numpy=0.93333334>,\n",
       " <tf.Tensor: shape=(), dtype=float32, numpy=0.925>,\n",
       " <tf.Tensor: shape=(), dtype=float32, numpy=0.925>,\n",
       " <tf.Tensor: shape=(), dtype=float32, numpy=0.9166667>,\n",
       " <tf.Tensor: shape=(), dtype=float32, numpy=0.94166666>,\n",
       " <tf.Tensor: shape=(), dtype=float32, numpy=0.9166667>,\n",
       " <tf.Tensor: shape=(), dtype=float32, numpy=0.93333334>,\n",
       " <tf.Tensor: shape=(), dtype=float32, numpy=0.925>,\n",
       " <tf.Tensor: shape=(), dtype=float32, numpy=0.94166666>,\n",
       " <tf.Tensor: shape=(), dtype=float32, numpy=0.93333334>,\n",
       " <tf.Tensor: shape=(), dtype=float32, numpy=0.93333334>,\n",
       " <tf.Tensor: shape=(), dtype=float32, numpy=0.93333334>,\n",
       " <tf.Tensor: shape=(), dtype=float32, numpy=0.95>,\n",
       " <tf.Tensor: shape=(), dtype=float32, numpy=0.925>,\n",
       " <tf.Tensor: shape=(), dtype=float32, numpy=0.925>,\n",
       " <tf.Tensor: shape=(), dtype=float32, numpy=0.94166666>,\n",
       " <tf.Tensor: shape=(), dtype=float32, numpy=0.93333334>,\n",
       " <tf.Tensor: shape=(), dtype=float32, numpy=0.9166667>,\n",
       " <tf.Tensor: shape=(), dtype=float32, numpy=0.94166666>,\n",
       " <tf.Tensor: shape=(), dtype=float32, numpy=0.925>,\n",
       " <tf.Tensor: shape=(), dtype=float32, numpy=0.94166666>,\n",
       " <tf.Tensor: shape=(), dtype=float32, numpy=0.95>,\n",
       " <tf.Tensor: shape=(), dtype=float32, numpy=0.96666664>,\n",
       " <tf.Tensor: shape=(), dtype=float32, numpy=0.94166666>,\n",
       " <tf.Tensor: shape=(), dtype=float32, numpy=0.9166667>,\n",
       " <tf.Tensor: shape=(), dtype=float32, numpy=0.925>,\n",
       " <tf.Tensor: shape=(), dtype=float32, numpy=0.93333334>,\n",
       " <tf.Tensor: shape=(), dtype=float32, numpy=0.925>,\n",
       " <tf.Tensor: shape=(), dtype=float32, numpy=0.94166666>,\n",
       " <tf.Tensor: shape=(), dtype=float32, numpy=0.95>,\n",
       " <tf.Tensor: shape=(), dtype=float32, numpy=0.93333334>,\n",
       " <tf.Tensor: shape=(), dtype=float32, numpy=0.95>,\n",
       " <tf.Tensor: shape=(), dtype=float32, numpy=0.9583333>,\n",
       " <tf.Tensor: shape=(), dtype=float32, numpy=0.94166666>,\n",
       " <tf.Tensor: shape=(), dtype=float32, numpy=0.94166666>,\n",
       " <tf.Tensor: shape=(), dtype=float32, numpy=0.94166666>,\n",
       " <tf.Tensor: shape=(), dtype=float32, numpy=0.95>,\n",
       " <tf.Tensor: shape=(), dtype=float32, numpy=0.93333334>,\n",
       " <tf.Tensor: shape=(), dtype=float32, numpy=0.93333334>,\n",
       " <tf.Tensor: shape=(), dtype=float32, numpy=0.94166666>,\n",
       " <tf.Tensor: shape=(), dtype=float32, numpy=0.93333334>,\n",
       " <tf.Tensor: shape=(), dtype=float32, numpy=0.95>,\n",
       " <tf.Tensor: shape=(), dtype=float32, numpy=0.94166666>,\n",
       " <tf.Tensor: shape=(), dtype=float32, numpy=0.94166666>,\n",
       " <tf.Tensor: shape=(), dtype=float32, numpy=0.93333334>,\n",
       " <tf.Tensor: shape=(), dtype=float32, numpy=0.9583333>,\n",
       " <tf.Tensor: shape=(), dtype=float32, numpy=0.9583333>,\n",
       " <tf.Tensor: shape=(), dtype=float32, numpy=0.9583333>,\n",
       " <tf.Tensor: shape=(), dtype=float32, numpy=0.95>,\n",
       " <tf.Tensor: shape=(), dtype=float32, numpy=0.95>,\n",
       " <tf.Tensor: shape=(), dtype=float32, numpy=0.94166666>,\n",
       " <tf.Tensor: shape=(), dtype=float32, numpy=0.95>,\n",
       " <tf.Tensor: shape=(), dtype=float32, numpy=0.95>,\n",
       " <tf.Tensor: shape=(), dtype=float32, numpy=0.9583333>,\n",
       " <tf.Tensor: shape=(), dtype=float32, numpy=0.94166666>,\n",
       " <tf.Tensor: shape=(), dtype=float32, numpy=0.95>,\n",
       " <tf.Tensor: shape=(), dtype=float32, numpy=0.95>,\n",
       " <tf.Tensor: shape=(), dtype=float32, numpy=0.9583333>,\n",
       " <tf.Tensor: shape=(), dtype=float32, numpy=0.9583333>,\n",
       " <tf.Tensor: shape=(), dtype=float32, numpy=0.9583333>,\n",
       " <tf.Tensor: shape=(), dtype=float32, numpy=0.94166666>,\n",
       " <tf.Tensor: shape=(), dtype=float32, numpy=0.95>,\n",
       " <tf.Tensor: shape=(), dtype=float32, numpy=0.95>,\n",
       " <tf.Tensor: shape=(), dtype=float32, numpy=0.9583333>,\n",
       " <tf.Tensor: shape=(), dtype=float32, numpy=0.95>]"
      ]
     },
     "execution_count": 34,
     "metadata": {},
     "output_type": "execute_result"
    }
   ],
   "source": []
  },
  {
   "cell_type": "code",
   "execution_count": 36,
   "metadata": {},
   "outputs": [
    {
     "data": {
      "image/png": "[encoded data removed]",
      "text/plain": [
       "<Figure size 648x576 with 2 Axes>"
      ]
     },
     "metadata": {
      "needs_background": "light"
     },
     "output_type": "display_data"
    }
   ],
   "source": [
    "fig, axes = plt.subplots(2, sharex=True, figsize=(9, 8))\n",
    "fig.suptitle('Training Metrics')\n",
    "\n",
    "axes[0].set_ylabel(\"Loss\", fontsize=14)\n",
    "axes[0].plot(train_loss_results)\n",
    "\n",
    "axes[1].set_ylabel(\"Accuracy\", fontsize=14)\n",
    "axes[1].set_xlabel(\"Epoch\", fontsize=14)\n",
    "axes[1].plot(train_accuracy_results)\n",
    "plt.show()"
   ]
  }
 ],
 "metadata": {
  "kernelspec": {
   "display_name": "Python 3",
   "language": "python",
   "name": "python3"
  },
  "language_info": {
   "codemirror_mode": {
    "name": "ipython",
    "version": 3
   },
   "file_extension": ".py",
   "mimetype": "text/x-python",
   "name": "python",
   "nbconvert_exporter": "python",
   "pygments_lexer": "ipython3",
   "version": "3.7.4"
  }
 },
 "nbformat": 4,
 "nbformat_minor": 2
}
